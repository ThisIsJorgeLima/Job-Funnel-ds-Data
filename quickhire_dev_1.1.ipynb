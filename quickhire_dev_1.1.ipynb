{
 "cells": [
  {
   "cell_type": "markdown",
   "metadata": {},
   "source": [
    "# Quickhire\n",
    "\n",
    "## Vector Representations\n",
    "\n",
    "- 1. Clean: Job Listings from current database:\n",
    "- 2. Spacy to tokenize the listings\n",
    "- 3. Scikit-Learn's CountVectorizer to get word counts for each listing.\n",
    "- 4. Visualize the most common word counts\n",
    "- 5. Scikit-Learn's tfidfVectorizer to get a TF-IDF feature matrix\n",
    "- 6. Created a NearestNeighbor Model. Write the description of your ideal datascience job and query your job listings."
   ]
  },
  {
   "cell_type": "code",
   "execution_count": 5,
   "metadata": {},
   "outputs": [],
   "source": [
    "\"\"\" Import Statements \"\"\"\n",
    "\n",
    "# Classics\n",
    "import pandas as pd\n",
    "import numpy as np\n",
    "\n",
    "# Base\n",
    "from collections import Counter\n",
    "import re\n",
    "import string\n",
    "\n",
    "# Plotting\n",
    "import squarify\n",
    "import seaborn as sns\n",
    "import matplotlib.pyplot as plt\n",
    "\n",
    "from sklearn.feature_extraction.text import CountVectorizer, TfidfVectorizer\n",
    "from sklearn.metrics.pairwise import cosine_similarity\n",
    "from sklearn.neighbors import NearestNeighbors\n",
    "from sklearn.decomposition import PCA\n",
    "\n",
    "# NLP Libraries\n",
    "from spacy.tokenizer import Tokenizer\n",
    "from nltk.stem import PorterStemmer\n",
    "\n",
    "import spacy\n",
    "nlp = spacy.load(\"en_core_web_lg\")\n",
    "\n",
    "def tokenize(text):\n",
    "    \"\"\"Parses a string into a list of semantic units (words)\n",
    "\n",
    "    Args:\n",
    "        text (str): The string that the function will tokenize.\n",
    "\n",
    "    Returns:\n",
    "        list: tokens parsed out by the mechanics of your choice\n",
    "    \"\"\"\n",
    "    \n",
    "    tokens = re.sub(r'[^a-zA-Z ^0-9]', '', text)\n",
    "    tokens = tokens.lower().split()"
   ]
  },
  {
   "cell_type": "markdown",
   "metadata": {},
   "source": [
    "## 1. Clean: Job Listings from current database:"
   ]
  },
  {
   "cell_type": "code",
   "execution_count": 40,
   "metadata": {},
   "outputs": [
    {
     "data": {
      "text/plain": [
       "'/Users/jorge/quickhire'"
      ]
     },
     "execution_count": 40,
     "metadata": {},
     "output_type": "execute_result"
    }
   ],
   "source": [
    "pwd"
   ]
  },
  {
   "cell_type": "code",
   "execution_count": 65,
   "metadata": {},
   "outputs": [
    {
     "name": "stdout",
     "output_type": "stream",
     "text": [
      "\u001b[1m\u001b[36mData\u001b[m\u001b[m/                    quickhire_dev_1.1.ipynb\n"
     ]
    }
   ],
   "source": [
    "ls"
   ]
  },
  {
   "cell_type": "code",
   "execution_count": 6,
   "metadata": {},
   "outputs": [
    {
     "name": "stdout",
     "output_type": "stream",
     "text": [
      "(118782, 20)\n"
     ]
    },
    {
     "data": {
      "text/html": [
       "<div>\n",
       "<style scoped>\n",
       "    .dataframe tbody tr th:only-of-type {\n",
       "        vertical-align: middle;\n",
       "    }\n",
       "\n",
       "    .dataframe tbody tr th {\n",
       "        vertical-align: top;\n",
       "    }\n",
       "\n",
       "    .dataframe thead th {\n",
       "        text-align: right;\n",
       "    }\n",
       "</style>\n",
       "<table border=\"1\" class=\"dataframe\">\n",
       "  <thead>\n",
       "    <tr style=\"text-align: right;\">\n",
       "      <th></th>\n",
       "      <th>Unnamed: 0</th>\n",
       "      <th>post_date_utc</th>\n",
       "      <th>pay_min</th>\n",
       "      <th>pay_max</th>\n",
       "      <th>pay_exact</th>\n",
       "      <th>title</th>\n",
       "      <th>seniority</th>\n",
       "      <th>job_id</th>\n",
       "      <th>description_x</th>\n",
       "      <th>company_id</th>\n",
       "      <th>keyphrase</th>\n",
       "      <th>location_id</th>\n",
       "      <th>name</th>\n",
       "      <th>description_y</th>\n",
       "      <th>size</th>\n",
       "      <th>revenue</th>\n",
       "      <th>logo_url</th>\n",
       "      <th>city</th>\n",
       "      <th>state_province</th>\n",
       "      <th>country</th>\n",
       "    </tr>\n",
       "  </thead>\n",
       "  <tbody>\n",
       "    <tr>\n",
       "      <th>0</th>\n",
       "      <td>0</td>\n",
       "      <td>2020-01-31 21:55:07.257399+00:00</td>\n",
       "      <td>30000</td>\n",
       "      <td>100000</td>\n",
       "      <td>89000</td>\n",
       "      <td>software dev</td>\n",
       "      <td>junior</td>\n",
       "      <td>1</td>\n",
       "      <td>job 1 this is a great place to work</td>\n",
       "      <td>1</td>\n",
       "      <td>java, ruby</td>\n",
       "      <td>1</td>\n",
       "      <td>IBM</td>\n",
       "      <td>IBM is the largest technology and consulting e...</td>\n",
       "      <td>500000</td>\n",
       "      <td>7.9e+10</td>\n",
       "      <td>https://coda.newjobs.com/api/imagesproxy/ms/mm...</td>\n",
       "      <td>oakland</td>\n",
       "      <td>california</td>\n",
       "      <td>USA</td>\n",
       "    </tr>\n",
       "    <tr>\n",
       "      <th>1</th>\n",
       "      <td>1</td>\n",
       "      <td>2020-01-31 21:55:07.257399+00:00</td>\n",
       "      <td>30000</td>\n",
       "      <td>100000</td>\n",
       "      <td>89000</td>\n",
       "      <td>software dev</td>\n",
       "      <td>junior</td>\n",
       "      <td>4</td>\n",
       "      <td>job 4 this is a great place to work</td>\n",
       "      <td>1</td>\n",
       "      <td></td>\n",
       "      <td>1</td>\n",
       "      <td>IBM</td>\n",
       "      <td>IBM is the largest technology and consulting e...</td>\n",
       "      <td>500000</td>\n",
       "      <td>7.9e+10</td>\n",
       "      <td>https://coda.newjobs.com/api/imagesproxy/ms/mm...</td>\n",
       "      <td>oakland</td>\n",
       "      <td>california</td>\n",
       "      <td>USA</td>\n",
       "    </tr>\n",
       "    <tr>\n",
       "      <th>2</th>\n",
       "      <td>2</td>\n",
       "      <td>2020-02-04 18:27:17+00:00</td>\n",
       "      <td></td>\n",
       "      <td></td>\n",
       "      <td></td>\n",
       "      <td>Research Software Engineer</td>\n",
       "      <td></td>\n",
       "      <td>2034</td>\n",
       "      <td>**Introduction**\\n  \\nIBM Research Scientists ...</td>\n",
       "      <td>1</td>\n",
       "      <td></td>\n",
       "      <td>835</td>\n",
       "      <td>IBM</td>\n",
       "      <td>IBM is the largest technology and consulting e...</td>\n",
       "      <td>500000</td>\n",
       "      <td>7.9e+10</td>\n",
       "      <td>https://coda.newjobs.com/api/imagesproxy/ms/mm...</td>\n",
       "      <td>oakland</td>\n",
       "      <td>california</td>\n",
       "      <td>USA</td>\n",
       "    </tr>\n",
       "  </tbody>\n",
       "</table>\n",
       "</div>"
      ],
      "text/plain": [
       "   Unnamed: 0                     post_date_utc pay_min pay_max pay_exact  \\\n",
       "0           0  2020-01-31 21:55:07.257399+00:00   30000  100000     89000   \n",
       "1           1  2020-01-31 21:55:07.257399+00:00   30000  100000     89000   \n",
       "2           2         2020-02-04 18:27:17+00:00                             \n",
       "\n",
       "                        title seniority job_id  \\\n",
       "0                software dev    junior      1   \n",
       "1                software dev    junior      4   \n",
       "2  Research Software Engineer             2034   \n",
       "\n",
       "                                       description_x company_id   keyphrase  \\\n",
       "0                job 1 this is a great place to work          1  java, ruby   \n",
       "1                job 4 this is a great place to work          1               \n",
       "2  **Introduction**\\n  \\nIBM Research Scientists ...          1               \n",
       "\n",
       "  location_id name                                      description_y    size  \\\n",
       "0           1  IBM  IBM is the largest technology and consulting e...  500000   \n",
       "1           1  IBM  IBM is the largest technology and consulting e...  500000   \n",
       "2         835  IBM  IBM is the largest technology and consulting e...  500000   \n",
       "\n",
       "   revenue                                           logo_url     city  \\\n",
       "0  7.9e+10  https://coda.newjobs.com/api/imagesproxy/ms/mm...  oakland   \n",
       "1  7.9e+10  https://coda.newjobs.com/api/imagesproxy/ms/mm...  oakland   \n",
       "2  7.9e+10  https://coda.newjobs.com/api/imagesproxy/ms/mm...  oakland   \n",
       "\n",
       "  state_province country  \n",
       "0     california     USA  \n",
       "1     california     USA  \n",
       "2     california     USA  "
      ]
     },
     "execution_count": 6,
     "metadata": {},
     "output_type": "execute_result"
    }
   ],
   "source": [
    "df = pd.read_csv(\"data/job_listings1.2.csv\")\n",
    "# replace blank flavor with \"\"\n",
    "df = df.replace(np.nan, '', regex=True)\n",
    "df.replace(\"?\", np.NaN)\n",
    "print(df.shape)\n",
    "df.head(3)"
   ]
  },
  {
   "cell_type": "code",
   "execution_count": 8,
   "metadata": {},
   "outputs": [
    {
     "data": {
      "text/html": [
       "<div>\n",
       "<style scoped>\n",
       "    .dataframe tbody tr th:only-of-type {\n",
       "        vertical-align: middle;\n",
       "    }\n",
       "\n",
       "    .dataframe tbody tr th {\n",
       "        vertical-align: top;\n",
       "    }\n",
       "\n",
       "    .dataframe thead th {\n",
       "        text-align: right;\n",
       "    }\n",
       "</style>\n",
       "<table border=\"1\" class=\"dataframe\">\n",
       "  <thead>\n",
       "    <tr style=\"text-align: right;\">\n",
       "      <th></th>\n",
       "      <th>post_date_utc</th>\n",
       "      <th>pay_min</th>\n",
       "      <th>pay_max</th>\n",
       "      <th>pay_exact</th>\n",
       "      <th>title</th>\n",
       "      <th>seniority</th>\n",
       "      <th>job_id</th>\n",
       "      <th>description_x</th>\n",
       "      <th>company_id</th>\n",
       "      <th>keyphrase</th>\n",
       "      <th>location_id</th>\n",
       "      <th>name</th>\n",
       "      <th>description_y</th>\n",
       "      <th>size</th>\n",
       "      <th>revenue</th>\n",
       "      <th>logo_url</th>\n",
       "      <th>city</th>\n",
       "      <th>state_province</th>\n",
       "      <th>country</th>\n",
       "    </tr>\n",
       "  </thead>\n",
       "  <tbody>\n",
       "    <tr>\n",
       "      <th>count</th>\n",
       "      <td>118782</td>\n",
       "      <td>118782</td>\n",
       "      <td>118782</td>\n",
       "      <td>118782</td>\n",
       "      <td>118782</td>\n",
       "      <td>118782</td>\n",
       "      <td>118782</td>\n",
       "      <td>118782</td>\n",
       "      <td>118782.0</td>\n",
       "      <td>118782</td>\n",
       "      <td>118782.0</td>\n",
       "      <td>118782</td>\n",
       "      <td>118782</td>\n",
       "      <td>118782</td>\n",
       "      <td>118782</td>\n",
       "      <td>118782</td>\n",
       "      <td>118782</td>\n",
       "      <td>118782</td>\n",
       "      <td>118782</td>\n",
       "    </tr>\n",
       "    <tr>\n",
       "      <th>unique</th>\n",
       "      <td>117832</td>\n",
       "      <td>4</td>\n",
       "      <td>4</td>\n",
       "      <td>4</td>\n",
       "      <td>82580</td>\n",
       "      <td>4</td>\n",
       "      <td>117915</td>\n",
       "      <td>113862</td>\n",
       "      <td>19678.0</td>\n",
       "      <td>2</td>\n",
       "      <td>8124.0</td>\n",
       "      <td>19927</td>\n",
       "      <td>1568</td>\n",
       "      <td>4</td>\n",
       "      <td>4</td>\n",
       "      <td>2440</td>\n",
       "      <td>7445</td>\n",
       "      <td>212</td>\n",
       "      <td>16</td>\n",
       "    </tr>\n",
       "    <tr>\n",
       "      <th>top</th>\n",
       "      <td></td>\n",
       "      <td></td>\n",
       "      <td></td>\n",
       "      <td></td>\n",
       "      <td></td>\n",
       "      <td></td>\n",
       "      <td></td>\n",
       "      <td></td>\n",
       "      <td>41.0</td>\n",
       "      <td></td>\n",
       "      <td>720.0</td>\n",
       "      <td>CyberCoders</td>\n",
       "      <td></td>\n",
       "      <td></td>\n",
       "      <td></td>\n",
       "      <td></td>\n",
       "      <td></td>\n",
       "      <td></td>\n",
       "      <td>US</td>\n",
       "    </tr>\n",
       "    <tr>\n",
       "      <th>freq</th>\n",
       "      <td>868</td>\n",
       "      <td>118776</td>\n",
       "      <td>118776</td>\n",
       "      <td>118776</td>\n",
       "      <td>868</td>\n",
       "      <td>118776</td>\n",
       "      <td>868</td>\n",
       "      <td>868</td>\n",
       "      <td>2897.0</td>\n",
       "      <td>118779</td>\n",
       "      <td>4426.0</td>\n",
       "      <td>2897</td>\n",
       "      <td>83601</td>\n",
       "      <td>118386</td>\n",
       "      <td>118386</td>\n",
       "      <td>78948</td>\n",
       "      <td>22024</td>\n",
       "      <td>26758</td>\n",
       "      <td>77352</td>\n",
       "    </tr>\n",
       "  </tbody>\n",
       "</table>\n",
       "</div>"
      ],
      "text/plain": [
       "       post_date_utc pay_min pay_max pay_exact   title seniority  job_id  \\\n",
       "count         118782  118782  118782    118782  118782    118782  118782   \n",
       "unique        117832       4       4         4   82580         4  117915   \n",
       "top                                                                        \n",
       "freq             868  118776  118776    118776     868    118776     868   \n",
       "\n",
       "       description_x  company_id keyphrase  location_id         name  \\\n",
       "count         118782    118782.0    118782     118782.0       118782   \n",
       "unique        113862     19678.0         2       8124.0        19927   \n",
       "top                         41.0                  720.0  CyberCoders   \n",
       "freq             868      2897.0    118779       4426.0         2897   \n",
       "\n",
       "       description_y    size revenue logo_url    city state_province country  \n",
       "count         118782  118782  118782   118782  118782         118782  118782  \n",
       "unique          1568       4       4     2440    7445            212      16  \n",
       "top                                                                       US  \n",
       "freq           83601  118386  118386    78948   22024          26758   77352  "
      ]
     },
     "execution_count": 8,
     "metadata": {},
     "output_type": "execute_result"
    }
   ],
   "source": [
    "df.describe(exclude='number')"
   ]
  },
  {
   "cell_type": "code",
   "execution_count": 9,
   "metadata": {},
   "outputs": [
    {
     "data": {
      "text/plain": [
       "Unnamed: 0         int64\n",
       "post_date_utc     object\n",
       "pay_min           object\n",
       "pay_max           object\n",
       "pay_exact         object\n",
       "title             object\n",
       "seniority         object\n",
       "job_id            object\n",
       "description_x     object\n",
       "company_id        object\n",
       "keyphrase         object\n",
       "location_id       object\n",
       "name              object\n",
       "description_y     object\n",
       "size              object\n",
       "revenue           object\n",
       "logo_url          object\n",
       "city              object\n",
       "state_province    object\n",
       "country           object\n",
       "dtype: object"
      ]
     },
     "execution_count": 9,
     "metadata": {},
     "output_type": "execute_result"
    }
   ],
   "source": [
    "df.dtypes"
   ]
  },
  {
   "cell_type": "code",
   "execution_count": 10,
   "metadata": {},
   "outputs": [
    {
     "data": {
      "text/plain": [
       "0                       job 1 this is a great place to work\n",
       "1                       job 4 this is a great place to work\n",
       "2         **Introduction**\\n  \\nIBM Research Scientists ...\n",
       "3         **Introduction**\\n  \\nSoftware Developers at I...\n",
       "4         **Introduction**\\n  \\nSoftware Developers at I...\n",
       "5         **Introduction**\\n  \\nSoftware Developers at I...\n",
       "6         **Introduction**\\n  \\nIBM Research Scientists ...\n",
       "7         User Experience Design Lead, IBM Corporation, ...\n",
       "8         Software Developer, IBM Corporation, Littleton...\n",
       "9         **Introduction**  \\n\\nSoftware Developers at I...\n",
       "10        **Introduction**  \\n\\nSoftware Developers at I...\n",
       "11        **Introduction**  \\n\\nAt IBM, work is more tha...\n",
       "12        Introduction   \\n\\nSoftware Developers at IBM ...\n",
       "13        Introduction\\n\\nAt IBM, work is more than a jo...\n",
       "14        Introduction   \\n\\nSoftware Developers at IBM ...\n",
       "15        Introduction   \\n\\nIBM Global Business Service...\n",
       "16        Introduction\\n\\nSoftware Developers at IBM are...\n",
       "17        Introduction\\n\\nThe Office of the Chief Inform...\n",
       "18        **Introduction**  \\n\\nAs an Application Develo...\n",
       "19        Introduction\\n\\nAre you a pioneer? An intrapre...\n",
       "20        **Introduction**  \\n\\nAre you a pioneer? An “i...\n",
       "21        **Introduction**  \\n\\nAt IBM, work is more tha...\n",
       "22        **Introduction**  \\n\\nInformation and Data are...\n",
       "23        **Introduction**  \\n\\nAs an Application Develo...\n",
       "24        **Introduction**  \\n\\nThe IBM Cognitive Applic...\n",
       "25        **Introduction**  \\n\\nAs an Application Develo...\n",
       "26        **Introduction**  \\n\\nSoftware Developers at I...\n",
       "27        **Introduction**  \\n\\nIBM Q interns are resear...\n",
       "28        **Introduction**  \\n\\nAs an IBM Application Ar...\n",
       "29        **Introduction**  \\n\\nAre you a pioneer? An “i...\n",
       "                                ...                        \n",
       "118752                                                     \n",
       "118753                                                     \n",
       "118754                                                     \n",
       "118755                                                     \n",
       "118756                                                     \n",
       "118757                                                     \n",
       "118758                                                     \n",
       "118759                                                     \n",
       "118760                                                     \n",
       "118761                                                     \n",
       "118762                                                     \n",
       "118763                                                     \n",
       "118764                                                     \n",
       "118765                                                     \n",
       "118766                                                     \n",
       "118767                                                     \n",
       "118768                                                     \n",
       "118769                                                     \n",
       "118770                                                     \n",
       "118771                                                     \n",
       "118772                                                     \n",
       "118773                                                     \n",
       "118774                                                     \n",
       "118775                                                     \n",
       "118776                                                     \n",
       "118777                                                     \n",
       "118778                                                     \n",
       "118779                                                     \n",
       "118780                                                     \n",
       "118781                                                     \n",
       "Name: description_x, Length: 118782, dtype: object"
      ]
     },
     "execution_count": 10,
     "metadata": {},
     "output_type": "execute_result"
    }
   ],
   "source": [
    "df['description_x'][0:]"
   ]
  },
  {
   "cell_type": "code",
   "execution_count": 11,
   "metadata": {},
   "outputs": [],
   "source": [
    "# df['description_x'].head()\n",
    "\n",
    "df['description_x'] = df['description_x'].str.replace(r'\\\\(x|n)[a-z0-9]{0,2}', ' ')\n",
    "df['description_x'] = df['description_x'].str.replace(r'<[^<]+?>', '').str.replace(r'^b.', '')\n",
    "df['description_x'] = df['description_x'].str.replace('/', ' ')\n",
    "df['description_x'] = df['description_x'].str.replace(r\"\\s+\", \" \")\n",
    "df['description_x'] = df['description_x'].str.replace('/\\d\\.\\s+|[a-z]\\)\\s+|•\\s+|[A-Z]\\.\\s+|[IVX]+\\.\\s+/g', \"\")"
   ]
  },
  {
   "cell_type": "code",
   "execution_count": 12,
   "metadata": {},
   "outputs": [],
   "source": [
    "df['description_x']= df['description_x'].astype(str)"
   ]
  },
  {
   "cell_type": "code",
   "execution_count": 13,
   "metadata": {},
   "outputs": [],
   "source": [
    "def punct_cleaning(column):\n",
    "    processed_data = []\n",
    "    for i in column:\n",
    "        text = re.sub('[%s]' % string.punctuation, '', i).lower()\n",
    "        processed_data.append(text)\n",
    "    return pd.DataFrame(processed_data)"
   ]
  },
  {
   "cell_type": "code",
   "execution_count": 14,
   "metadata": {},
   "outputs": [
    {
     "data": {
      "text/plain": [
       "'introduction software developers at ibm are the backbone of our strategic initiatives to design code test and provide industryleading solutions that make the world run today  planes and trains take off on time bank transactions complete in the blink of an eye and the world remains safe because of the work our software developers do whether you are working on projects internally or for a client software development is critical to the success of ibm and our clients worldwide at ibm you will use the latest software development tools techniques and approaches and work with leading minds in the industry to build solutions you can be proud of your role and responsibilities start dates for this position are in summer 2020 3 months as a front end developer intern have passion and experience for building responsive elegant and engaging experiences with future friendly web technologies work closely with designers to take wireframes from conception to implementation and design and improve user interfaces work with the ibm design system to implement uis work in javascript nodejs or frameworks such as react vue or angular are skilled in ui development technologies such as html css json and api usage have an interest in understanding of or experience with design thinking methodology have an interest in understanding of or experience with agile development methodology what you’ll do you’ll work in an agile collaborative environment to understand requirements design code and test innovative applications and support those applications for our highly valued customers you’ll employ ibm’s design thinking to create products that provide a great user experience along with high performance security quality and stability at the nexus of engineering and design you will be instrumental in bringing industrydefining software products cloud services and web applications to users around the world who you are  you are highly motivated and have a passion for creating and supporting great products you thrive on collaboration working side by side with people of all backgrounds and disciplines and you have very strong verbal and written communication skills you are great at solving problems debugging troubleshooting designing and implementing solutions to complex technical issues you have a basic understanding of software development and programming languages front end developers are in demand across ibm’s industries youll be matched to a development team in one of ibm’s growing strategic business areas based on location and fit positions are based in one of the following ibm na offices az  tucson ca  costa mesa emeryville foster city san francisco san jose co  denver ga  atlanta sandy springs il  chicago ma  cambridge littleton mn  rochester nc  durham raleigh ny  endicott hopewell junction north castle manhattan poughkeepsie yorktown heights oh  columbus pa  blue bell pittsburgh tx  austin dallas houston irving opportunities in all locations will vary based on business demand indicates cities with limited opportunities required skills must have basic knowledge in one or more of the following technology areas html css ui development javascript nodejs react vue angular preferred skills knowledge of backbonejs angularjs react emberjs bootstrap nodejs and jquery willing to travel up to 10 required education bachelor’s degree preferred education master’s degree required technical and professional expertise \\\\ must have basic knowledge in one or more of the following technology areas html css ui development javascript nodejs react vue angular preferred technical and professional expertise \\\\ willing to travel up to 10 \\\\ bachelors or masters degree about business unit no matter where you work in ibm you are making an impact as an early professional with ibm you will be taking on a key role with one of our industryleading business units to work on the technology that is solving our most challenging problems and changing the way the world thinks your life  ibm what matters to you when you’re looking for your next career challenge maybe you want to get involved in work that really changes the world what about somewhere with incredible and diverse career and development opportunities – where you can truly discover your passion are you looking for a culture of openness collaboration and trust – where everyone has a voice what about all of these if so then ibm could be your next career challenge join us not to do something better but to attempt things you never thought possible impact inclusion infinite experiences do your best work ever about ibm ibm’s greatest invention is the ibmer we believe that progress is made through progressive thinking progressive leadership progressive policy and progressive action ibmers believe that the application of intelligence reason and science can improve business society and the human condition restlessly reinventing since 1911 we are the largest technology and consulting employer in the world with more than 380000 ibmers serving clients in 170 countries location statement we consider qualified applicants with criminal histories consistent with applicable law being you  ibm ibm is committed to creating a diverse environment and is proud to be an equal opportunity employer all qualified applicants will receive consideration for employment without regard to race color religion gender gender identity or expression sexual orientation national origin genetics disability age or veteran status ibm is also committed to compliance with all fair employment practices regarding citizenship and immigration status'"
      ]
     },
     "execution_count": 14,
     "metadata": {},
     "output_type": "execute_result"
    }
   ],
   "source": [
    "df['description_x'] = punct_cleaning(df['description_x'])\n",
    "df['description_x'][10]"
   ]
  },
  {
   "cell_type": "markdown",
   "metadata": {},
   "source": [
    "## 2. Use Spacy to tokenize the listings:"
   ]
  },
  {
   "cell_type": "code",
   "execution_count": 15,
   "metadata": {},
   "outputs": [],
   "source": [
    "nlp = spacy.load('en_core_web_lg')"
   ]
  },
  {
   "cell_type": "code",
   "execution_count": 16,
   "metadata": {},
   "outputs": [],
   "source": [
    "# Tokenizer\n",
    "tokenizer = Tokenizer(nlp.vocab)"
   ]
  },
  {
   "cell_type": "code",
   "execution_count": 17,
   "metadata": {},
   "outputs": [],
   "source": [
    "#Tokenizer Pipe\n",
    "\n",
    "tokens = []\n",
    "\n",
    "# Make the tokens\n",
    "for doc in nlp.pipe(df['description_x'], disable=['tagger', 'parser', 'ner']):\n",
    "    \n",
    "    doc_tokens = []\n",
    "    \n",
    "    for token in doc:\n",
    "        if (token.is_stop==False) & (token.is_punct==False):\n",
    "           doc_tokens.append(token.text)\n",
    "   \n",
    "    tokens.append(doc_tokens)\n",
    "    \n",
    "df['tokens'] = tokens"
   ]
  },
  {
   "cell_type": "code",
   "execution_count": 18,
   "metadata": {},
   "outputs": [
    {
     "data": {
      "text/plain": [
       "0                         [job, 1, great, place, work]\n",
       "1                         [job, 4, great, place, work]\n",
       "2    [introduction, ibm, research, scientists, char...\n",
       "3    [introduction, software, developers, ibm, back...\n",
       "4    [introduction, software, developers, ibm, back...\n",
       "Name: tokens, dtype: object"
      ]
     },
     "execution_count": 18,
     "metadata": {},
     "output_type": "execute_result"
    }
   ],
   "source": [
    "df['tokens'].head()"
   ]
  },
  {
   "cell_type": "code",
   "execution_count": 19,
   "metadata": {},
   "outputs": [],
   "source": [
    "def get_lemmas(text):\n",
    "    \n",
    "    lemmas = []\n",
    "    \n",
    "    doc = nlp(text)\n",
    "    \n",
    "    # Something goes here :P\n",
    "    for token in doc:\n",
    "        if ((token.is_stop == False) and (token.is_punct == False)) and (token.pos_!= 'PRON'):\n",
    "            lemmas.append(token.lemma_)\n",
    "    return lemmas\n",
    "\n",
    "df['lemmas'] = df['description_x'].apply(get_lemmas)"
   ]
  },
  {
   "cell_type": "code",
   "execution_count": 20,
   "metadata": {},
   "outputs": [
    {
     "name": "stdout",
     "output_type": "stream",
     "text": [
      "(118782, 22)\n"
     ]
    },
    {
     "data": {
      "text/html": [
       "<div>\n",
       "<style scoped>\n",
       "    .dataframe tbody tr th:only-of-type {\n",
       "        vertical-align: middle;\n",
       "    }\n",
       "\n",
       "    .dataframe tbody tr th {\n",
       "        vertical-align: top;\n",
       "    }\n",
       "\n",
       "    .dataframe thead th {\n",
       "        text-align: right;\n",
       "    }\n",
       "</style>\n",
       "<table border=\"1\" class=\"dataframe\">\n",
       "  <thead>\n",
       "    <tr style=\"text-align: right;\">\n",
       "      <th></th>\n",
       "      <th>Unnamed: 0</th>\n",
       "      <th>post_date_utc</th>\n",
       "      <th>pay_min</th>\n",
       "      <th>pay_max</th>\n",
       "      <th>pay_exact</th>\n",
       "      <th>title</th>\n",
       "      <th>seniority</th>\n",
       "      <th>job_id</th>\n",
       "      <th>description_x</th>\n",
       "      <th>company_id</th>\n",
       "      <th>...</th>\n",
       "      <th>name</th>\n",
       "      <th>description_y</th>\n",
       "      <th>size</th>\n",
       "      <th>revenue</th>\n",
       "      <th>logo_url</th>\n",
       "      <th>city</th>\n",
       "      <th>state_province</th>\n",
       "      <th>country</th>\n",
       "      <th>tokens</th>\n",
       "      <th>lemmas</th>\n",
       "    </tr>\n",
       "  </thead>\n",
       "  <tbody>\n",
       "    <tr>\n",
       "      <th>0</th>\n",
       "      <td>0</td>\n",
       "      <td>2020-01-31 21:55:07.257399+00:00</td>\n",
       "      <td>30000</td>\n",
       "      <td>100000</td>\n",
       "      <td>89000</td>\n",
       "      <td>software dev</td>\n",
       "      <td>junior</td>\n",
       "      <td>1</td>\n",
       "      <td>job 1 this is a great place to work</td>\n",
       "      <td>1</td>\n",
       "      <td>...</td>\n",
       "      <td>IBM</td>\n",
       "      <td>IBM is the largest technology and consulting e...</td>\n",
       "      <td>500000</td>\n",
       "      <td>7.9e+10</td>\n",
       "      <td>https://coda.newjobs.com/api/imagesproxy/ms/mm...</td>\n",
       "      <td>oakland</td>\n",
       "      <td>california</td>\n",
       "      <td>USA</td>\n",
       "      <td>[job, 1, great, place, work]</td>\n",
       "      <td>[job, 1, great, place, work]</td>\n",
       "    </tr>\n",
       "    <tr>\n",
       "      <th>1</th>\n",
       "      <td>1</td>\n",
       "      <td>2020-01-31 21:55:07.257399+00:00</td>\n",
       "      <td>30000</td>\n",
       "      <td>100000</td>\n",
       "      <td>89000</td>\n",
       "      <td>software dev</td>\n",
       "      <td>junior</td>\n",
       "      <td>4</td>\n",
       "      <td>job 4 this is a great place to work</td>\n",
       "      <td>1</td>\n",
       "      <td>...</td>\n",
       "      <td>IBM</td>\n",
       "      <td>IBM is the largest technology and consulting e...</td>\n",
       "      <td>500000</td>\n",
       "      <td>7.9e+10</td>\n",
       "      <td>https://coda.newjobs.com/api/imagesproxy/ms/mm...</td>\n",
       "      <td>oakland</td>\n",
       "      <td>california</td>\n",
       "      <td>USA</td>\n",
       "      <td>[job, 4, great, place, work]</td>\n",
       "      <td>[job, 4, great, place, work]</td>\n",
       "    </tr>\n",
       "    <tr>\n",
       "      <th>2</th>\n",
       "      <td>2</td>\n",
       "      <td>2020-02-04 18:27:17+00:00</td>\n",
       "      <td></td>\n",
       "      <td></td>\n",
       "      <td></td>\n",
       "      <td>Research Software Engineer</td>\n",
       "      <td></td>\n",
       "      <td>2034</td>\n",
       "      <td>introduction ibm research scientists are chart...</td>\n",
       "      <td>1</td>\n",
       "      <td>...</td>\n",
       "      <td>IBM</td>\n",
       "      <td>IBM is the largest technology and consulting e...</td>\n",
       "      <td>500000</td>\n",
       "      <td>7.9e+10</td>\n",
       "      <td>https://coda.newjobs.com/api/imagesproxy/ms/mm...</td>\n",
       "      <td>oakland</td>\n",
       "      <td>california</td>\n",
       "      <td>USA</td>\n",
       "      <td>[introduction, ibm, research, scientists, char...</td>\n",
       "      <td>[introduction, ibm, research, scientist, chart...</td>\n",
       "    </tr>\n",
       "    <tr>\n",
       "      <th>3</th>\n",
       "      <td>3</td>\n",
       "      <td>2020-02-04 20:00:45+00:00</td>\n",
       "      <td></td>\n",
       "      <td></td>\n",
       "      <td></td>\n",
       "      <td>2020 Intern - Back End Developer</td>\n",
       "      <td></td>\n",
       "      <td>2473</td>\n",
       "      <td>introduction software developers at ibm are th...</td>\n",
       "      <td>1</td>\n",
       "      <td>...</td>\n",
       "      <td>IBM</td>\n",
       "      <td>IBM is the largest technology and consulting e...</td>\n",
       "      <td>500000</td>\n",
       "      <td>7.9e+10</td>\n",
       "      <td>https://coda.newjobs.com/api/imagesproxy/ms/mm...</td>\n",
       "      <td>oakland</td>\n",
       "      <td>california</td>\n",
       "      <td>USA</td>\n",
       "      <td>[introduction, software, developers, ibm, back...</td>\n",
       "      <td>[introduction, software, developer, ibm, backb...</td>\n",
       "    </tr>\n",
       "    <tr>\n",
       "      <th>4</th>\n",
       "      <td>4</td>\n",
       "      <td>2020-02-04 20:01:52+00:00</td>\n",
       "      <td></td>\n",
       "      <td></td>\n",
       "      <td></td>\n",
       "      <td>Entry Level - Back End Developer</td>\n",
       "      <td></td>\n",
       "      <td>2493</td>\n",
       "      <td>introduction software developers at ibm are th...</td>\n",
       "      <td>1</td>\n",
       "      <td>...</td>\n",
       "      <td>IBM</td>\n",
       "      <td>IBM is the largest technology and consulting e...</td>\n",
       "      <td>500000</td>\n",
       "      <td>7.9e+10</td>\n",
       "      <td>https://coda.newjobs.com/api/imagesproxy/ms/mm...</td>\n",
       "      <td>oakland</td>\n",
       "      <td>california</td>\n",
       "      <td>USA</td>\n",
       "      <td>[introduction, software, developers, ibm, back...</td>\n",
       "      <td>[introduction, software, developer, ibm, backb...</td>\n",
       "    </tr>\n",
       "  </tbody>\n",
       "</table>\n",
       "<p>5 rows × 22 columns</p>\n",
       "</div>"
      ],
      "text/plain": [
       "   Unnamed: 0                     post_date_utc pay_min pay_max pay_exact  \\\n",
       "0           0  2020-01-31 21:55:07.257399+00:00   30000  100000     89000   \n",
       "1           1  2020-01-31 21:55:07.257399+00:00   30000  100000     89000   \n",
       "2           2         2020-02-04 18:27:17+00:00                             \n",
       "3           3         2020-02-04 20:00:45+00:00                             \n",
       "4           4         2020-02-04 20:01:52+00:00                             \n",
       "\n",
       "                              title seniority job_id  \\\n",
       "0                      software dev    junior      1   \n",
       "1                      software dev    junior      4   \n",
       "2        Research Software Engineer             2034   \n",
       "3  2020 Intern - Back End Developer             2473   \n",
       "4  Entry Level - Back End Developer             2493   \n",
       "\n",
       "                                       description_x company_id  ... name  \\\n",
       "0                job 1 this is a great place to work          1  ...  IBM   \n",
       "1                job 4 this is a great place to work          1  ...  IBM   \n",
       "2  introduction ibm research scientists are chart...          1  ...  IBM   \n",
       "3  introduction software developers at ibm are th...          1  ...  IBM   \n",
       "4  introduction software developers at ibm are th...          1  ...  IBM   \n",
       "\n",
       "                                       description_y    size  revenue  \\\n",
       "0  IBM is the largest technology and consulting e...  500000  7.9e+10   \n",
       "1  IBM is the largest technology and consulting e...  500000  7.9e+10   \n",
       "2  IBM is the largest technology and consulting e...  500000  7.9e+10   \n",
       "3  IBM is the largest technology and consulting e...  500000  7.9e+10   \n",
       "4  IBM is the largest technology and consulting e...  500000  7.9e+10   \n",
       "\n",
       "                                            logo_url     city state_province  \\\n",
       "0  https://coda.newjobs.com/api/imagesproxy/ms/mm...  oakland     california   \n",
       "1  https://coda.newjobs.com/api/imagesproxy/ms/mm...  oakland     california   \n",
       "2  https://coda.newjobs.com/api/imagesproxy/ms/mm...  oakland     california   \n",
       "3  https://coda.newjobs.com/api/imagesproxy/ms/mm...  oakland     california   \n",
       "4  https://coda.newjobs.com/api/imagesproxy/ms/mm...  oakland     california   \n",
       "\n",
       "  country                                             tokens  \\\n",
       "0     USA                       [job, 1, great, place, work]   \n",
       "1     USA                       [job, 4, great, place, work]   \n",
       "2     USA  [introduction, ibm, research, scientists, char...   \n",
       "3     USA  [introduction, software, developers, ibm, back...   \n",
       "4     USA  [introduction, software, developers, ibm, back...   \n",
       "\n",
       "                                              lemmas  \n",
       "0                       [job, 1, great, place, work]  \n",
       "1                       [job, 4, great, place, work]  \n",
       "2  [introduction, ibm, research, scientist, chart...  \n",
       "3  [introduction, software, developer, ibm, backb...  \n",
       "4  [introduction, software, developer, ibm, backb...  \n",
       "\n",
       "[5 rows x 22 columns]"
      ]
     },
     "execution_count": 20,
     "metadata": {},
     "output_type": "execute_result"
    }
   ],
   "source": [
    "print(df.shape)\n",
    "df.head()"
   ]
  },
  {
   "cell_type": "markdown",
   "metadata": {},
   "source": [
    "## 3. Use Scikit-Learn's CountVectorizer to get word counts for each listing."
   ]
  },
  {
   "cell_type": "code",
   "execution_count": 21,
   "metadata": {},
   "outputs": [
    {
     "data": {
      "text/html": [
       "<div>\n",
       "<style scoped>\n",
       "    .dataframe tbody tr th:only-of-type {\n",
       "        vertical-align: middle;\n",
       "    }\n",
       "\n",
       "    .dataframe tbody tr th {\n",
       "        vertical-align: top;\n",
       "    }\n",
       "\n",
       "    .dataframe thead th {\n",
       "        text-align: right;\n",
       "    }\n",
       "</style>\n",
       "<table border=\"1\" class=\"dataframe\">\n",
       "  <thead>\n",
       "    <tr style=\"text-align: right;\">\n",
       "      <th></th>\n",
       "      <th>00</th>\n",
       "      <th>000</th>\n",
       "      <th>0000</th>\n",
       "      <th>00000</th>\n",
       "      <th>0000000</th>\n",
       "      <th>00000119</th>\n",
       "      <th>00000262</th>\n",
       "      <th>00000444</th>\n",
       "      <th>00000759</th>\n",
       "      <th>0000092262</th>\n",
       "      <th>...</th>\n",
       "      <th>ﬁeld</th>\n",
       "      <th>ﬁelds</th>\n",
       "      <th>ﬁnger</th>\n",
       "      <th>ﬁrm</th>\n",
       "      <th>ﬁrms</th>\n",
       "      <th>ﬁrst</th>\n",
       "      <th>ﬁt</th>\n",
       "      <th>ﬂow</th>\n",
       "      <th>ﬂowcharts</th>\n",
       "      <th>ﾠall</th>\n",
       "    </tr>\n",
       "  </thead>\n",
       "  <tbody>\n",
       "    <tr>\n",
       "      <th>0</th>\n",
       "      <td>0</td>\n",
       "      <td>0</td>\n",
       "      <td>0</td>\n",
       "      <td>0</td>\n",
       "      <td>0</td>\n",
       "      <td>0</td>\n",
       "      <td>0</td>\n",
       "      <td>0</td>\n",
       "      <td>0</td>\n",
       "      <td>0</td>\n",
       "      <td>...</td>\n",
       "      <td>0</td>\n",
       "      <td>0</td>\n",
       "      <td>0</td>\n",
       "      <td>0</td>\n",
       "      <td>0</td>\n",
       "      <td>0</td>\n",
       "      <td>0</td>\n",
       "      <td>0</td>\n",
       "      <td>0</td>\n",
       "      <td>0</td>\n",
       "    </tr>\n",
       "    <tr>\n",
       "      <th>1</th>\n",
       "      <td>0</td>\n",
       "      <td>0</td>\n",
       "      <td>0</td>\n",
       "      <td>0</td>\n",
       "      <td>0</td>\n",
       "      <td>0</td>\n",
       "      <td>0</td>\n",
       "      <td>0</td>\n",
       "      <td>0</td>\n",
       "      <td>0</td>\n",
       "      <td>...</td>\n",
       "      <td>0</td>\n",
       "      <td>0</td>\n",
       "      <td>0</td>\n",
       "      <td>0</td>\n",
       "      <td>0</td>\n",
       "      <td>0</td>\n",
       "      <td>0</td>\n",
       "      <td>0</td>\n",
       "      <td>0</td>\n",
       "      <td>0</td>\n",
       "    </tr>\n",
       "    <tr>\n",
       "      <th>2</th>\n",
       "      <td>0</td>\n",
       "      <td>0</td>\n",
       "      <td>0</td>\n",
       "      <td>0</td>\n",
       "      <td>0</td>\n",
       "      <td>0</td>\n",
       "      <td>0</td>\n",
       "      <td>0</td>\n",
       "      <td>0</td>\n",
       "      <td>0</td>\n",
       "      <td>...</td>\n",
       "      <td>0</td>\n",
       "      <td>0</td>\n",
       "      <td>0</td>\n",
       "      <td>0</td>\n",
       "      <td>0</td>\n",
       "      <td>0</td>\n",
       "      <td>0</td>\n",
       "      <td>0</td>\n",
       "      <td>0</td>\n",
       "      <td>0</td>\n",
       "    </tr>\n",
       "    <tr>\n",
       "      <th>3</th>\n",
       "      <td>0</td>\n",
       "      <td>0</td>\n",
       "      <td>0</td>\n",
       "      <td>0</td>\n",
       "      <td>0</td>\n",
       "      <td>0</td>\n",
       "      <td>0</td>\n",
       "      <td>0</td>\n",
       "      <td>0</td>\n",
       "      <td>0</td>\n",
       "      <td>...</td>\n",
       "      <td>0</td>\n",
       "      <td>0</td>\n",
       "      <td>0</td>\n",
       "      <td>0</td>\n",
       "      <td>0</td>\n",
       "      <td>0</td>\n",
       "      <td>0</td>\n",
       "      <td>0</td>\n",
       "      <td>0</td>\n",
       "      <td>0</td>\n",
       "    </tr>\n",
       "    <tr>\n",
       "      <th>4</th>\n",
       "      <td>0</td>\n",
       "      <td>0</td>\n",
       "      <td>0</td>\n",
       "      <td>0</td>\n",
       "      <td>0</td>\n",
       "      <td>0</td>\n",
       "      <td>0</td>\n",
       "      <td>0</td>\n",
       "      <td>0</td>\n",
       "      <td>0</td>\n",
       "      <td>...</td>\n",
       "      <td>0</td>\n",
       "      <td>0</td>\n",
       "      <td>0</td>\n",
       "      <td>0</td>\n",
       "      <td>0</td>\n",
       "      <td>0</td>\n",
       "      <td>0</td>\n",
       "      <td>0</td>\n",
       "      <td>0</td>\n",
       "      <td>0</td>\n",
       "    </tr>\n",
       "  </tbody>\n",
       "</table>\n",
       "<p>5 rows × 316139 columns</p>\n",
       "</div>"
      ],
      "text/plain": [
       "   00  000  0000  00000  0000000  00000119  00000262  00000444  00000759  \\\n",
       "0   0    0     0      0        0         0         0         0         0   \n",
       "1   0    0     0      0        0         0         0         0         0   \n",
       "2   0    0     0      0        0         0         0         0         0   \n",
       "3   0    0     0      0        0         0         0         0         0   \n",
       "4   0    0     0      0        0         0         0         0         0   \n",
       "\n",
       "   0000092262  ...  ﬁeld  ﬁelds  ﬁnger  ﬁrm  ﬁrms  ﬁrst  ﬁt  ﬂow  ﬂowcharts  \\\n",
       "0           0  ...     0      0      0    0     0     0   0    0          0   \n",
       "1           0  ...     0      0      0    0     0     0   0    0          0   \n",
       "2           0  ...     0      0      0    0     0     0   0    0          0   \n",
       "3           0  ...     0      0      0    0     0     0   0    0          0   \n",
       "4           0  ...     0      0      0    0     0     0   0    0          0   \n",
       "\n",
       "   ﾠall  \n",
       "0     0  \n",
       "1     0  \n",
       "2     0  \n",
       "3     0  \n",
       "4     0  \n",
       "\n",
       "[5 rows x 316139 columns]"
      ]
     },
     "execution_count": 21,
     "metadata": {},
     "output_type": "execute_result"
    }
   ],
   "source": [
    "# create the transformer:\n",
    "vect = CountVectorizer(stop_words='english')\n",
    "\n",
    "#Learn our Vocab\n",
    "vect.fit(df['description_x'])\n",
    "\n",
    "# Get sparse dtm\n",
    "dtm = vect.transform(df['description_x'])\n",
    "\n",
    "dtm = pd.DataFrame(dtm.todense(), columns=vect.get_feature_names())\n",
    "\n",
    "dtm.head()"
   ]
  },
  {
   "cell_type": "code",
   "execution_count": 23,
   "metadata": {},
   "outputs": [
    {
     "data": {
      "text/plain": [
       "(118782, 316139)"
      ]
     },
     "execution_count": 23,
     "metadata": {},
     "output_type": "execute_result"
    }
   ],
   "source": [
    "dtm.shape"
   ]
  },
  {
   "cell_type": "markdown",
   "metadata": {},
   "source": [
    "## 4) Visualize the most common word counts"
   ]
  },
  {
   "cell_type": "code",
   "execution_count": 25,
   "metadata": {},
   "outputs": [],
   "source": [
    "doc_len = [len(doc) for doc in df]"
   ]
  },
  {
   "cell_type": "code",
   "execution_count": 26,
   "metadata": {},
   "outputs": [
    {
     "data": {
      "image/png": "[encoded data removed]",
      "text/plain": [
       "<Figure size 432x288 with 1 Axes>"
      ]
     },
     "metadata": {
      "needs_background": "light"
     },
     "output_type": "display_data"
    }
   ],
   "source": [
    "sns.distplot(doc_len)\n",
    "plt.show()"
   ]
  },
  {
   "cell_type": "code",
   "execution_count": 27,
   "metadata": {},
   "outputs": [],
   "source": [
    "def count(docs):\n",
    "\n",
    "        word_counts = Counter()\n",
    "        appears_in = Counter()\n",
    "        \n",
    "        total_docs = len(docs)\n",
    "\n",
    "        for doc in docs:\n",
    "            word_counts.update(doc)\n",
    "            appears_in.update(set(doc))\n",
    "\n",
    "        temp = zip(word_counts.keys(), word_counts.values())\n",
    "        \n",
    "        wc = pd.DataFrame(temp, columns = ['word', 'count'])\n",
    "\n",
    "        wc['rank'] = wc['count'].rank(method='first', ascending=False)\n",
    "        total = wc['count'].sum()\n",
    "\n",
    "        wc['pct_total'] = wc['count'].apply(lambda x: x / total)\n",
    "        \n",
    "        wc = wc.sort_values(by='rank')\n",
    "        wc['cul_pct_total'] = wc['pct_total'].cumsum()\n",
    "\n",
    "        t2 = zip(appears_in.keys(), appears_in.values())\n",
    "        ac = pd.DataFrame(t2, columns=['word', 'appears_in'])\n",
    "        wc = ac.merge(wc, on='word')\n",
    "\n",
    "        wc['appears_in_pct'] = wc['appears_in'].apply(lambda x: x / total_docs)\n",
    "        \n",
    "        return wc.sort_values(by='rank')"
   ]
  },
  {
   "cell_type": "code",
   "execution_count": 28,
   "metadata": {},
   "outputs": [
    {
     "data": {
      "text/html": [
       "<div>\n",
       "<style scoped>\n",
       "    .dataframe tbody tr th:only-of-type {\n",
       "        vertical-align: middle;\n",
       "    }\n",
       "\n",
       "    .dataframe tbody tr th {\n",
       "        vertical-align: top;\n",
       "    }\n",
       "\n",
       "    .dataframe thead th {\n",
       "        text-align: right;\n",
       "    }\n",
       "</style>\n",
       "<table border=\"1\" class=\"dataframe\">\n",
       "  <thead>\n",
       "    <tr style=\"text-align: right;\">\n",
       "      <th></th>\n",
       "      <th>word</th>\n",
       "      <th>appears_in</th>\n",
       "      <th>count</th>\n",
       "      <th>rank</th>\n",
       "      <th>pct_total</th>\n",
       "      <th>cul_pct_total</th>\n",
       "      <th>appears_in_pct</th>\n",
       "    </tr>\n",
       "  </thead>\n",
       "  <tbody>\n",
       "    <tr>\n",
       "      <th>0</th>\n",
       "      <td>place</td>\n",
       "      <td>9669</td>\n",
       "      <td>-9223372036854775808</td>\n",
       "      <td>NaN</td>\n",
       "      <td>-inf</td>\n",
       "      <td>-inf</td>\n",
       "      <td>0.081401</td>\n",
       "    </tr>\n",
       "    <tr>\n",
       "      <th>1</th>\n",
       "      <td>job</td>\n",
       "      <td>64575</td>\n",
       "      <td>-9223372036854775808</td>\n",
       "      <td>NaN</td>\n",
       "      <td>-inf</td>\n",
       "      <td>-inf</td>\n",
       "      <td>0.543643</td>\n",
       "    </tr>\n",
       "    <tr>\n",
       "      <th>2</th>\n",
       "      <td>work</td>\n",
       "      <td>93409</td>\n",
       "      <td>-9223372036854775808</td>\n",
       "      <td>NaN</td>\n",
       "      <td>-inf</td>\n",
       "      <td>-inf</td>\n",
       "      <td>0.786390</td>\n",
       "    </tr>\n",
       "    <tr>\n",
       "      <th>3</th>\n",
       "      <td>1</td>\n",
       "      <td>17301</td>\n",
       "      <td>-9223372036854775808</td>\n",
       "      <td>NaN</td>\n",
       "      <td>-inf</td>\n",
       "      <td>-inf</td>\n",
       "      <td>0.145653</td>\n",
       "    </tr>\n",
       "    <tr>\n",
       "      <th>4</th>\n",
       "      <td>great</td>\n",
       "      <td>16831</td>\n",
       "      <td>-9223372036854775808</td>\n",
       "      <td>NaN</td>\n",
       "      <td>-inf</td>\n",
       "      <td>-inf</td>\n",
       "      <td>0.141697</td>\n",
       "    </tr>\n",
       "  </tbody>\n",
       "</table>\n",
       "</div>"
      ],
      "text/plain": [
       "    word  appears_in                count  rank  pct_total  cul_pct_total  \\\n",
       "0  place        9669 -9223372036854775808   NaN       -inf           -inf   \n",
       "1    job       64575 -9223372036854775808   NaN       -inf           -inf   \n",
       "2   work       93409 -9223372036854775808   NaN       -inf           -inf   \n",
       "3      1       17301 -9223372036854775808   NaN       -inf           -inf   \n",
       "4  great       16831 -9223372036854775808   NaN       -inf           -inf   \n",
       "\n",
       "   appears_in_pct  \n",
       "0        0.081401  \n",
       "1        0.543643  \n",
       "2        0.786390  \n",
       "3        0.145653  \n",
       "4        0.141697  "
      ]
     },
     "execution_count": 28,
     "metadata": {},
     "output_type": "execute_result"
    }
   ],
   "source": [
    "wc = count(df['tokens'])\n",
    "wc.head()"
   ]
  },
  {
   "cell_type": "code",
   "execution_count": 29,
   "metadata": {},
   "outputs": [
    {
     "data": {
      "text/plain": [
       "<matplotlib.axes._subplots.AxesSubplot at 0x11cbe53e10>"
      ]
     },
     "execution_count": 29,
     "metadata": {},
     "output_type": "execute_result"
    },
    {
     "data": {
      "image/png": "[encoded data removed]",
      "text/plain": [
       "<Figure size 432x288 with 1 Axes>"
      ]
     },
     "metadata": {
      "needs_background": "light"
     },
     "output_type": "display_data"
    }
   ],
   "source": [
    "# cumlative distribution plot\n",
    "sns.lineplot(x='rank', y='cul_pct_total', data=wc)"
   ]
  },
  {
   "cell_type": "code",
   "execution_count": 30,
   "metadata": {},
   "outputs": [
    {
     "data": {
      "image/png": "[encoded data removed]",
      "text/plain": [
       "<Figure size 432x288 with 1 Axes>"
      ]
     },
     "metadata": {
      "needs_background": "light"
     },
     "output_type": "display_data"
    }
   ],
   "source": [
    "# Frequency of apperances\n",
    "sns.distplot(wc['appears_in_pct'])\n",
    "plt.show()"
   ]
  },
  {
   "cell_type": "code",
   "execution_count": 31,
   "metadata": {},
   "outputs": [
    {
     "data": {
      "image/png": "[encoded data removed]",
      "text/plain": [
       "<Figure size 432x288 with 1 Axes>"
      ]
     },
     "metadata": {
      "needs_background": "light"
     },
     "output_type": "display_data"
    }
   ],
   "source": [
    "# Tree-Map w/ Words that appear in a least 2.5% of documents. \n",
    "\n",
    "wc = wc[wc['appears_in_pct'] >= 0.025]\n",
    "\n",
    "sns.distplot(wc['appears_in_pct'])\n",
    "plt.show()"
   ]
  },
  {
   "cell_type": "code",
   "execution_count": 32,
   "metadata": {},
   "outputs": [
    {
     "data": {
      "image/png": "[encoded data removed]",
      "text/plain": [
       "<Figure size 432x288 with 1 Axes>"
      ]
     },
     "metadata": {
      "needs_background": "light"
     },
     "output_type": "display_data"
    }
   ],
   "source": [
    "wc = count(df['tokens'])\n",
    "\n",
    "wc_top20 = wc[wc['rank'] <= 20]\n",
    "\n",
    "squarify.plot(sizes=wc_top20['pct_total'], label=wc_top20['word'], alpha=.7)\n",
    "plt.title('Top Words with Stop Words')\n",
    "plt.axis('off')\n",
    "plt.show()"
   ]
  },
  {
   "cell_type": "code",
   "execution_count": 33,
   "metadata": {},
   "outputs": [
    {
     "data": {
      "image/png": "[encoded data removed]",
      "text/plain": [
       "<Figure size 432x288 with 1 Axes>"
      ]
     },
     "metadata": {
      "needs_background": "light"
     },
     "output_type": "display_data"
    }
   ],
   "source": [
    "wc = count(df['lemmas'])\n",
    "wc_top20 = wc[wc['rank'] <= 20]\n",
    "\n",
    "squarify.plot(sizes=wc_top20['pct_total'], label=wc_top20['word'], alpha=.7 )\n",
    "plt.axis('off')\n",
    "plt.title('Top Words using Lemmas and Stop Words')\n",
    "plt.show()"
   ]
  },
  {
   "cell_type": "markdown",
   "metadata": {},
   "source": [
    "## 5) Use Scikit-Learn's tfidfVectorizer to get a TF-IDF feature matrix"
   ]
  },
  {
   "cell_type": "code",
   "execution_count": 1,
   "metadata": {},
   "outputs": [
    {
     "ename": "NameError",
     "evalue": "name 'TfidfVectorizer' is not defined",
     "output_type": "error",
     "traceback": [
      "\u001b[0;31m---------------------------------------------------------------------------\u001b[0m",
      "\u001b[0;31mNameError\u001b[0m                                 Traceback (most recent call last)",
      "\u001b[0;32m<ipython-input-1-4f36a092a149>\u001b[0m in \u001b[0;36m<module>\u001b[0;34m\u001b[0m\n\u001b[1;32m      1\u001b[0m \u001b[0;31m# instantiate vectorizer object:\u001b[0m\u001b[0;34m\u001b[0m\u001b[0;34m\u001b[0m\u001b[0m\n\u001b[0;32m----> 2\u001b[0;31m tfidf = TfidfVectorizer(max_df=.97,\n\u001b[0m\u001b[1;32m      3\u001b[0m                         \u001b[0mmin_df\u001b[0m\u001b[0;34m=\u001b[0m\u001b[0;36m3\u001b[0m\u001b[0;34m,\u001b[0m\u001b[0;34m\u001b[0m\u001b[0m\n\u001b[1;32m      4\u001b[0m                         stop_words='english')\n\u001b[1;32m      5\u001b[0m \u001b[0;34m\u001b[0m\u001b[0m\n",
      "\u001b[0;31mNameError\u001b[0m: name 'TfidfVectorizer' is not defined"
     ]
    }
   ],
   "source": [
    "# instantiate vectorizer object:\n",
    "tfidf = TfidfVectorizer(max_df=.97,\n",
    "                        min_df=3,\n",
    "                        stop_words='english')\n",
    "\n",
    "# create a vocabulary and get word counts per document:\n",
    "dtm_tfidf = tfidf.fit_transform(df['description_x'])\n",
    "\n",
    "# print word counts\n",
    "\n",
    "# get feature names to use as dataframe column headers:\n",
    "dtm_tfidf = pd.DataFrame(dtm_tfidf.todense(), columns=tfidf.get_feature_names())\n",
    "\n",
    "# view Feature Matrix as DataFrame:\n",
    "dtm_tfidf.head()"
   ]
  },
  {
   "cell_type": "code",
   "execution_count": null,
   "metadata": {},
   "outputs": [],
   "source": []
  }
 ],
 "metadata": {
  "kernelspec": {
   "display_name": "U4S1DS10 (Python 3.7)",
   "language": "python",
   "name": "u4-s1-nlp-ds10"
  },
  "language_info": {
   "codemirror_mode": {
    "name": "ipython",
    "version": 3
   },
   "file_extension": ".py",
   "mimetype": "text/x-python",
   "name": "python",
   "nbconvert_exporter": "python",
   "pygments_lexer": "ipython3",
   "version": "3.7.0"
  }
 },
 "nbformat": 4,
 "nbformat_minor": 4
}
